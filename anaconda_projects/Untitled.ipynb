{
 "cells": [
  {
   "cell_type": "code",
   "execution_count": null,
   "id": "f552e43d-8112-4056-9f84-43c0287c0af3",
   "metadata": {},
   "outputs": [],
   "source": [
    "import numpy as np\n",
    "import matplotlib.pyplot as plt\n",
    "\n",
    "# List of different values of n\n",
    "n_values = [500, 1000, 2000, 5000, 10000, 15000, 20000, 50000, 100000]\n",
    "\n",
    "# Loop through different values of n\n",
    "for n in n_values:\n",
    "    # Step 1: Simulate rolling two dice\n",
    "    die1 = np.random.randint(1, 7, size=n)  # Roll first die\n",
    "    die2 = np.random.randint(1, 7, size=n)  # Roll second die\n",
    "    s = die1 + die2  # Compute sum\n",
    "\n",
    "    # Step 2: Compute histogram\n",
    "    h, h2 = np.histogram(s, bins=range(2, 14))  # Sum ranges from 2 to 12\n",
    "\n",
    "    # Step 3: Plot histogram\n",
    "    plt.figure(figsize=(8, 5))\n",
    "    plt.bar(h2[:-1], h/n, width=0.9, color='blue', alpha=0.7)\n",
    "    plt.xlabel('Sum of Two Dice')\n",
    "    plt.ylabel('Probability')\n",
    "    plt.title(f'Distribution of Dice Sums (n={n})')\n",
    "    plt.xticks(range(2, 13))\n",
    "    plt.ylim(0, 0.2)\n",
    "    \n",
    "    plt.show()\n"
   ]
  },
  {
   "cell_type": "code",
   "execution_count": null,
   "id": "f48b95b3-40c6-45b2-ac65-d49de15a3871",
   "metadata": {},
   "outputs": [],
   "source": []
  }
 ],
 "metadata": {
  "kernelspec": {
   "display_name": "Python [conda env:base] *",
   "language": "python",
   "name": "conda-base-py"
  },
  "language_info": {
   "codemirror_mode": {
    "name": "ipython",
    "version": 3
   },
   "file_extension": ".py",
   "mimetype": "text/x-python",
   "name": "python",
   "nbconvert_exporter": "python",
   "pygments_lexer": "ipython3",
   "version": "3.12.3"
  }
 },
 "nbformat": 4,
 "nbformat_minor": 5
}
