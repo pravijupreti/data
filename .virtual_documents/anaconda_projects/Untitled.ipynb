import numpy as np
import matplotlib.pyplot as plt

# List of different values of n
n_values = [500, 1000, 2000, 5000, 10000, 15000, 20000, 50000, 100000]

# Loop through different values of n
for n in n_values:
    # Step 1: Simulate rolling two dice
    die1 = np.random.randint(1, 7, size=n)  # Roll first die
    die2 = np.random.randint(1, 7, size=n)  # Roll second die
    s = die1 + die2  # Compute sum

    # Step 2: Compute histogram
    h, h2 = np.histogram(s, bins=range(2, 14))  # Sum ranges from 2 to 12

    # Step 3: Plot histogram
    plt.figure(figsize=(8, 5))
    plt.bar(h2[:-1], h/n, width=0.9, color='blue', alpha=0.7)
    plt.xlabel('Sum of Two Dice')
    plt.ylabel('Probability')
    plt.title(f'Distribution of Dice Sums (n={n})')
    plt.xticks(range(2, 13))
    plt.ylim(0, 0.2)
    
    plt.show()




